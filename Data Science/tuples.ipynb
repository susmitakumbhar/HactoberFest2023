{
 "cells": [
  {
   "cell_type": "markdown",
   "metadata": {},
   "source": [
    "## It is an immutable data type \n"
   ]
  },
  {
   "cell_type": "code",
   "execution_count": 1,
   "metadata": {},
   "outputs": [
    {
     "name": "stdout",
     "output_type": "stream",
     "text": [
      "(1, 2, 3) <class 'tuple'>\n"
     ]
    }
   ],
   "source": [
    "x= (1,2,3) #tuple\n",
    "x\n",
    "print(x,type(x))"
   ]
  },
  {
   "cell_type": "markdown",
   "metadata": {},
   "source": [
    "tuple is a default type of python so \n",
    "tuple packing"
   ]
  },
  {
   "cell_type": "code",
   "execution_count": 2,
   "metadata": {},
   "outputs": [
    {
     "name": "stdout",
     "output_type": "stream",
     "text": [
      "(1, 2, 3, 4, 5) <class 'tuple'>\n"
     ]
    }
   ],
   "source": [
    "a=1,2,3,4,5  #tuple packing\n",
    "print (a,type(a))"
   ]
  },
  {
   "cell_type": "markdown",
   "metadata": {},
   "source": [
    "tuple unpacking"
   ]
  },
  {
   "cell_type": "code",
   "execution_count": 6,
   "metadata": {},
   "outputs": [
    {
     "name": "stdout",
     "output_type": "stream",
     "text": [
      "1 2 3\n",
      "1 [2, 3]\n",
      "[1, 2] 3\n"
     ]
    }
   ],
   "source": [
    "t = (1,2,3)\n",
    "a,b,c=t\n",
    "print(a, b, c) #tuple unpacking\n",
    "\n",
    "a, *b=t #first element in a and rest in b and data type of b is a list \n",
    "print(a,b)\n",
    "*a, b=t \n",
    "print(a,b)"
   ]
  },
  {
   "cell_type": "code",
   "execution_count": 9,
   "metadata": {},
   "outputs": [
    {
     "name": "stdout",
     "output_type": "stream",
     "text": [
      "1 9 [2, 3, 4, 5, 6, 7, 8]\n"
     ]
    }
   ],
   "source": [
    "t2=(1,2,3,4,5,6,7,8,9)\n",
    "#first and last extract\n",
    "\n",
    "x,*_,y =t2 #_underscore is a throwable variable , can be used also but throw away and not needed\n",
    "print(x,y,_) # using * can hold multiple values in form of a list "
   ]
  },
  {
   "cell_type": "markdown",
   "metadata": {},
   "source": [
    "only 2 functions can work with tuples \n",
    "- count\n",
    "- index\n",
    "- slicing \n",
    "\n"
   ]
  },
  {
   "cell_type": "code",
   "execution_count": 12,
   "metadata": {},
   "outputs": [
    {
     "name": "stdout",
     "output_type": "stream",
     "text": [
      "3\n",
      "0\n",
      "2\n"
     ]
    }
   ],
   "source": [
    "t2=(3,3,31,1,2,3)\n",
    "print(t2.count(3)) #count the no of 3s in t2\n",
    "\n",
    "print(t2.index(3)) #index of the first 3 in t2\n",
    "print(t2.index(31))"
   ]
  },
  {
   "cell_type": "code",
   "execution_count": 14,
   "metadata": {},
   "outputs": [
    {
     "name": "stdout",
     "output_type": "stream",
     "text": [
      "1 [2, 3]\n"
     ]
    }
   ],
   "source": [
    "a= (1,2,3)\n",
    "x1,x2,x3=a \n",
    "x1, *x2=a \n",
    "print(x1,x2)"
   ]
  },
  {
   "cell_type": "code",
   "execution_count": null,
   "metadata": {},
   "outputs": [],
   "source": []
  }
 ],
 "metadata": {
  "kernelspec": {
   "display_name": "base",
   "language": "python",
   "name": "python3"
  },
  "language_info": {
   "codemirror_mode": {
    "name": "ipython",
    "version": 3
   },
   "file_extension": ".py",
   "mimetype": "text/x-python",
   "name": "python",
   "nbconvert_exporter": "python",
   "pygments_lexer": "ipython3",
   "version": "3.11.4"
  },
  "orig_nbformat": 4
 },
 "nbformat": 4,
 "nbformat_minor": 2
}
